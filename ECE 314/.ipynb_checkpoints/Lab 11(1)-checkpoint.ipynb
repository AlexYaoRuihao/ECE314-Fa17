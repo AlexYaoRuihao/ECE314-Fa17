{
 "cells": [
  {
   "cell_type": "markdown",
   "metadata": {},
   "source": [
    "# Lab 11: ODEs, Failure Rates, and Evolutionary Games"
   ]
  },
  {
   "cell_type": "code",
   "execution_count": 1,
   "metadata": {
    "collapsed": false
   },
   "outputs": [
    {
     "name": "stdout",
     "output_type": "stream",
     "text": [
      "Modules Imported!\n"
     ]
    }
   ],
   "source": [
    "%matplotlib inline\n",
    "import matplotlib.pyplot as plt\n",
    "import matplotlib.image as img\n",
    "import numpy as np\n",
    "import scipy as sp\n",
    "import scipy.stats as st\n",
    "from scipy.integrate import odeint\n",
    "print 'Modules Imported!'"
   ]
  },
  {
   "cell_type": "markdown",
   "metadata": {},
   "source": [
    "In this lab we're to going analyze evolutionary games using drift analysis. In order to do this, we first need to determine how to integrate ordinary differential equations. So, we begin with a brief exposure of how to achieve this in Python. While we're at it, we'll do a short exercise about failure rate functions.  Then we examine some evolutionary games, using both a stochastic model and a deterministic model, which involves the differential equations."
   ]
  },
  {
   "cell_type": "markdown",
   "metadata": {},
   "source": [
    "## Integration of ODEs"
   ]
  },
  {
   "cell_type": "markdown",
   "metadata": {},
   "source": [
    "This section gives an introdution to integrating ordinary differential equations (odes), with an application to the calculation of a CDF from a failure rate function.  If you recall from your math classes we can describe an ODE as the following:\n",
    "\n",
    "$\\dot{y}=f(y),$ \n",
    "\n",
    "where both $y$ and the function $f$ are vector valued, and $\\dot{y}$ is shorthand for $\\frac{dy}{dt}.$   The variables being vector valued simply implies that we could have a system of dependent one dimensional (1D) ODEs as opposed to just a single one dimensional variable.  Let's look at the following system:\n",
    "\n",
    "\\begin{eqnarray*}\n",
    "\\binom{\\dot{y_0}}{\\dot{y_1}} = \\binom{2y_1-0.1y_0}{-y_0}\n",
    "\\end{eqnarray*}\n",
    "with the initial condition $y_{init}=\\binom{y_1(0)}{y_2(0)}=\\binom{1}{1}.$\n",
    "\n",
    "Our goal in using Python is not to find a closed form solution to the ODE as you would have probably done in your math class, but to numerically integrate it and produce a graphical solution. In order to do this we use the odeint method from scipy.integrate. It takes a function with an initial value and specified times at which the solution is to be output. Internally, the numerical method will often use a much finer grid of time points to solve the ode -- but that is none of your concern.   The times you put in are the times at with the method needs to provide the values of the solution. Look how it is used below:"
   ]
  },
  {
   "cell_type": "code",
   "execution_count": null,
   "metadata": {
    "collapsed": false
   },
   "outputs": [],
   "source": [
    "# Simple example integrating a 2d ordinary differential equation (ode) dy/dt=f(y,t) \n",
    "# Note that the odeint package is imported in the code at the beginning of this file.\n",
    "\n",
    "# Function to integrate over\n",
    "def f(y,t):    \n",
    "    return np.array([2.*y[1]-.1*y[0],-y[0] ])\n",
    "\n",
    "time=np.linspace(0.0,20.0,10000)   # The times at which the solution is output.\n",
    "yinit=np.array([1.0,1.0])   # The initial condition\n",
    "y=odeint(f,yinit,time)      \n",
    "\n",
    "plt.plot(y[:,0],y[:,1])\n",
    "plt.title('trajectory of y up to time 20')\n",
    "plt.ylabel('y_1')\n",
    "plt.xlabel('y_0')\n"
   ]
  },
  {
   "cell_type": "markdown",
   "metadata": {},
   "source": [
    "Typically in a plot like this you would add an arrow to indicate the direction of time in the graph. However, we know the initial state is $y_{init}=\\binom{1}{1}.$ So as time increases, the trajectory moves concentrically inwards in a clockwise fashion. Depending on how much of differential equations you remember, this solution should make sense. The equation happens to have a linear form and can be written as $\\dot y = Ay$ where\n",
    "$\n",
    "A=\\left( \\begin{array}{cc}  -0.1  &  2  \\\\  -1  & 0 \\end{array} \\right).\n",
    "$\n",
    "The eigenvalues of $A$ are complex with negative real parts, so we would expect a decaying oscillatory behavior. (If you didn't follow that, don't worry about it.)\n",
    "\n",
    "As a simple application of integrating a 1D (one-dimensional) ode, the following code calculates a CDF $F$ from its failure rate function $h.$ But first, let's look at some theory to remember what a failure rate function is. If we let $T$ be a positive random variable with a pdf $f_T$ then\n",
    "the failure rate function is defined by the following:\n",
    "\n",
    "$$h(t)=\\lim_{\\epsilon \\to 0} \\frac{P(t<T \\leq t+\\epsilon | T>t)}{\\epsilon}$$\n",
    "\n",
    "Equivalently, an object having failure rate function $h$ means that for any $t > 0,$ given\n",
    "that the object is still working at time $t$, the probability it will fail in the next\n",
    "$\\epsilon$ time units is $h(t)\\epsilon + o(\\epsilon)$.  (As usual, $o(\\epsilon)$ represents an error term such that $o(\\epsilon)/\\epsilon \\to 0$ as $\\epsilon\\to 0.$)  With a little bit more derivation (shown in Section 3.9 of your ECE 313 text), we can see that:\n",
    "\n",
    "$$h(t) = \\frac{f_T(t)}{1-F_T(t)}$$\n",
    "\n",
    "Of course, the pdf $f_T$ is the derivative of the CDF $F_T$. Here's where your 1D ODE comes into play. Given a failure rate function, we want to be able to calculate the CDF. We can easily turn this into an ODE. \n",
    "\n",
    "$f_T(t) = (1-F_T(t))h(t)$\n",
    "\n",
    "Let $F_T(t) = y$ and  $f_T(t) = \\frac{dy}{dt} = \\dot{y}$, then:\n",
    "\n",
    "$\\dot{y} = (1-y)h(t)$\n",
    "\n",
    "Now we have our differential equation set up and we can solve it by the same method used in the previous example. For the code below, we define a particular bathtub shaped failure rate function to model the lifetime of a component such as a hard disk drive. There is a high, but decreasing initial rate of failure, followed be a period with a very low rate failure, followed by an increasing rate of failure. You should be able to think of reasons why an object might exhibit this type of failure rate function. Notice that the CDF behaves as we would expect: always between 0 and 1, and reactive to $h(t)$.\n",
    "\n",
    "If you examine the ECE 313 notes you'll see another way to determine $F_T,$  namely, using\n",
    "$F_T(t) = 1- \\exp \\left( \\int_o^t -h(s) ds \\right)$.  The point here, though, is to get some practice using\n",
    "odeint, instead of using this formula."
   ]
  },
  {
   "cell_type": "code",
   "execution_count": null,
   "metadata": {
    "collapsed": true
   },
   "outputs": [],
   "source": [
    "# Calculation of CDF from its failure rate function, using dF/dt=(1-F(t))h(t)\n",
    "from scipy.integrate import odeint\n",
    "\n",
    "def h(t):   # h is the failure rate function with a bathtub shape\n",
    "    if t<1:\n",
    "        return 1-t\n",
    "    elif t<3:\n",
    "        return 0.0\n",
    "    else:\n",
    "        return np.sqrt(t-3)\n",
    "\n",
    "def Fdot(y,t):    \n",
    "    return (1-y)*h(t)\n",
    "\n",
    "t_max=8.0  #  Select so that F(t_max) is very close to one\n",
    "time=np.linspace(0.0,t_max,1000)\n",
    "Finit=0.0\n",
    "F=odeint(Fdot,Finit,time)\n",
    "\n",
    "plt.plot(time,map(h,time))\n",
    "plt.text(4,h(4)+0.5, r'$h(t)$',fontsize=24) #Plots labels in the graph\n",
    "plt.text(4,0.5, r'$F(t)$',fontsize=24) \n",
    "\n",
    "plt.plot(time,F)\n",
    "plt.title('failure rate function $h$ and associated CDF, $F$')\n",
    "plt.axis(ymin=0,ymax=2.0)\n",
    "plt.ylabel('$h(t), F(t)$',fontsize=20)\n",
    "plt.xlabel('$t$',fontsize=20)"
   ]
  },
  {
   "cell_type": "markdown",
   "metadata": {},
   "source": [
    "**<SPAN style=\"BACKGROUND-COLOR: #C0C0C0\">Problem 1:</SPAN>** Using the information on failure rate functions and the example above, do the following:\n",
    "<ol>\n",
    "<li> Write code that, given the failure rate function of a random variable $T$, computes the mean lifetime, $E[T].$  Use this code to determine the mean lifetime for the example given above.  (Hint: An easy way to do this problem is to use the area rule for expectations. Since $T$ is nonnegative, the area rule for expectations gives $E[T]=\\int_0^\\infty(1-F(t)) dt.$\n",
    "The integral $\\int_0^\\infty (1-F(t)) dt$ is approximately equal to\n",
    "$\\int_0^{t_{max}} (1-F(t)) dt,$  which, by the definition of Riemann integration, is approximately equal to\n",
    "$h \\sum_{i=1}^{1000} (1-F(h_i)) $ where $h=t_{max}/1000.$  Basically the code above returns the samples $F(h_i)$ so all you need to do is subtract these values from 1, sum them up and multiply by $h$.)\n",
    "<li> What happens to $E[T]$ if the failure rate function is doubled for all time? Print out the new value of $E[T]$.\n",
    "</ol>"
   ]
  },
  {
   "cell_type": "code",
   "execution_count": null,
   "metadata": {
    "collapsed": false
   },
   "outputs": [],
   "source": [
    "# Your code here"
   ]
  },
  {
   "cell_type": "markdown",
   "metadata": {},
   "source": [
    "__Answer:__ (Your answer here)"
   ]
  },
  {
   "cell_type": "markdown",
   "metadata": {},
   "source": [
    "**<SPAN style=\"BACKGROUND-COLOR: #C0C0C0\">End of Problem 1</SPAN>** "
   ]
  },
  {
   "cell_type": "markdown",
   "metadata": {},
   "source": [
    "## Evolutionary games (replicator dynamics):"
   ]
  },
  {
   "cell_type": "markdown",
   "metadata": {},
   "source": [
    "Consider a population of individuals, where each individual is of some type.  Suppose individuals have occasional pairwise encounters.  During an encounter the two individuals involved play a two player symmetric game in which the strategies are the types of the individuals.   As a result of the encounter, each of the two individuals produces a number of offspring of its same type, with the number being determined by a fitess table or, equivalently, a fitness matrix.   For example, consider a population of crickets such that each cricket is either small or large.   If two small crickets meet each other then they each spawn five more small crickets.  If a small cricket encounters a large cricket then the small cricket spawns one more small cricket and the large cricket spawns eight new large crickets.   If two large crickets meet then each of them spawns three new large crickets.  We can summarize these outcomes using the following table:\n",
    "$$\\begin{array}{c|cc}  & small & large  \\\\ \\hline\n",
    "    small & 5 & 1  \\\\\n",
    "    large & 8 & 3\n",
    "    \\end{array}$$\n",
    "or by a fitness matrix\n",
    "$$F=\\left( \\begin{array}{cc}  5 & 1 \\\\ 8 & 3  \\end{array}\\right).$$ \n",
    "Associating 0 with \"small\" and 1 with \"large,\"  we see that if a type i individual encounters a type j individual, then the type i individual spawns F[i,j] new individuals of type i, and the type j individual spawns F[j,i] new individuals of type j. Below is a stochastic simulation for this game where we start with a population of four small crickets and four large crickets. It may be a useful exercise for you to think of how the values for $a$ and $b$ were created.\n"
   ]
  },
  {
   "cell_type": "code",
   "execution_count": null,
   "metadata": {
    "collapsed": true
   },
   "outputs": [],
   "source": [
    "# Stochastic simulation of replicator dynamics for cricket game\n",
    "\n",
    "F=np.array([[5,1],[8,3]])  # fitness matrix\n",
    "\n",
    "n=np.array([4,4])  #[number of small crickets, number of large crickets], initialized\n",
    "print \"                                   State      Fractions of each type\"\n",
    "print \"Initially                        \", n, \"      \", n/1./np.sum(n)\n",
    "\n",
    "T = 100 #total number of encounters\n",
    "\n",
    "for k in range(T):   # k tracks number of encounters\n",
    "    a=n[0]*(n[0]-1.0)/((n[0]+n[1])*(n[0]+n[1]-1))  # probability both players are type 0\n",
    "    b=2*n[0]*n[1]/((n[0]+n[1])*(n[0]+n[1]-1.0))  # probability one player of each type\n",
    "    U=np.random.rand()\n",
    "    if U<=a:\n",
    "        n+=[2*F[0,0],0]\n",
    "        print \"Round\",k+1,\"two small crickets meet \", n, n/1./np.sum(n)\n",
    "    elif a<U<=a+b:\n",
    "        n+=[F[0,1],F[1,0]]\n",
    "        print \"Round\",k+1,\"a small meets a large   \", n, n/1./np.sum(n)\n",
    "    else:\n",
    "        n+=[0,2*F[1,1]]\n",
    "        print \"Round\",k+1,\"two large crickets meet \", n, n/1./np.sum(n)\n"
   ]
  },
  {
   "cell_type": "markdown",
   "metadata": {},
   "source": [
    "The above simulation displays, after each encounter, the number of individuals of each type and the fraction of individuals of each type.   Run the simulation multiple times for different initial conditions.  \n",
    "<br>**<SPAN style=\"BACKGROUND-COLOR: #C0C0C0\">Problem 2:</SPAN>**  Answer the following questions.   You do not need to provide code for this problem, but explain your answers.  \n",
    "<ol>\n",
    "<li> How quickly does the total population grow if initally all the crickets are small?  \n",
    "<li> How quickly does the total population grow if initally all the crickets are large? \n",
    "<li> Do the fractions converge to a stable equilibrium in which the fractions of both small and large crickets are nonzero? (To explore convergence you may need to increase the number of encounters simulated.)\n",
    "</ol>"
   ]
  },
  {
   "cell_type": "markdown",
   "metadata": {},
   "source": [
    "__Answer:__ (Your answer here)"
   ]
  },
  {
   "cell_type": "markdown",
   "metadata": {},
   "source": [
    "**<SPAN style=\"BACKGROUND-COLOR: #C0C0C0\">End of Problem 2</SPAN>** "
   ]
  },
  {
   "cell_type": "markdown",
   "metadata": {},
   "source": [
    "The code given next is essentially the same as above.  One difference is a time variable is added such that the average rate that an individual cricket has encounters is proportional to the total number of crickets.  This results in exponential growth of the population with time.    Another difference is that population sizes are saved and plotted."
   ]
  },
  {
   "cell_type": "code",
   "execution_count": null,
   "metadata": {
    "collapsed": true
   },
   "outputs": [],
   "source": [
    "# Stochastic simulation of replicator dynamics for cricket game\n",
    "# Time is scaled so contact rate of each individual is one per unit time\n",
    "# The evolution trajectory is stored an plotted\n",
    "\n",
    "F=np.array([[5,1],[8,3]])  # fitness matrix\n",
    "n_max=100  # maximum number of interactions\n",
    "n=np.zeros((n_max,2),dtype=float)\n",
    "time=np.zeros(n_max,dtype=float)\n",
    "\n",
    "n[0,0], n[0,1] = 4,4 # initial [number of small crickets, number of large crickets]\n",
    "\n",
    "for k in range(n_max-1):\n",
    "    time[k+1]=time[k]+2.0/sum(n[k,:])   # The 2 is here because two individuals make contact at a time\n",
    "    a=n[k,0]*(n[k,0]-1.0)/((n[k,0]+n[k,1])*(n[k,0]+n[k,1]-1))  # probability both players are type 0\n",
    "    b=2*n[k,0]*n[k,1]/((n[k,0]+n[k,1])*(n[k,0]+n[k,1]-1.0))  # probability one player of each type\n",
    "    U=np.random.rand()\n",
    "    if U<=a:\n",
    "        n[k+1,:]= n[k,:] + [2*F[0,0],0]\n",
    "    elif a<U<=a+b:\n",
    "        n[k+1,:]=n[k,:] + [F[0,1],F[1,0]]\n",
    "    else:\n",
    "        n[k+1,:]= n[k,:] + [0,2*F[1,1]]\n",
    "\n",
    "plt.plot(time,n[:,0],'orange')\n",
    "plt.plot(time,n[:,1],'blue')\n",
    "plt.text(1.1,n[80,0], r'small',fontsize=14)\n",
    "plt.text(1.1,n[80,1], r'large',fontsize=14)\n",
    "plt.xlabel('time')\n",
    "plt.ylabel('population size')\n",
    "plt.title(\"Numbers of small and large crickets vs. time (simulation)\")\n"
   ]
  },
  {
   "cell_type": "markdown",
   "metadata": {},
   "source": [
    "The following code computes the deterministic analog of the cricket evolution.  The basic idea is that if the current population is [n[0], n[1]] then the drift (i.e. the expected rate of increase) of n[0] is n[0]  multiplied by the expected number of small crickets generated by a small cricket if an encounter happens.  That is true because each of the existing small crikets is having encounters at expected rate one.   To calculate the mean number of new small crickets generated by the encounter of a small cricket with a randomly selected other cricket, we use the law of total probability.  The encountered cricket is type zero with probabiity n[0]/(n[0]+n[1]), which results in F[0,0] new crickets of type zero, and the encountered cricket is type one with probability n[1]/(n[0]+n[1]), which results in F[0,1] new crickets of type zero.   Combining we get\n",
    "$$\n",
    "\\dot{n}[0] = n[0]*(F[0,0]*n[0]+F[0,1]*n[1])/(n[0]+n[1])\n",
    "$$\n",
    "The equation just derived is based on the law of large numbers (LLN).  If the population is fairly large then no one individual plays a major role in the evolution.  Over a small period of time the ratios of small and large crickets is nearly constant, so the number of new crickets of each type in each time slot are nearly independent and identically distributed.   The LLN suggests approximating the sum of number of individuals of each type by the expected numbers of individuals of each type.  That's how we arrive at a deterministic differential equation.\n",
    "\n",
    "A similar expression holds for the derivative of n[1], and the two equations can be writen in matrix form as\n",
    "$$\n",
    "\\dot{n} = diag(n)*F*n/sum(n)\n",
    "$$\n",
    "where diag(n) is the diagonal matrix with n[0] and n[1] on the diagonal, and \"$*$\" represents usual matrix multiplication.   (In the python code below, \"$*$\" denotes element by element multiplication, which is used instead of creating a diagonal matrix, and np.dot is used for ordinary matrix multiplication.)"
   ]
  },
  {
   "cell_type": "code",
   "execution_count": null,
   "metadata": {
    "collapsed": true
   },
   "outputs": [],
   "source": [
    "# Deterministic (ODE) replicator dynamics for cricket game\n",
    "from scipy.integrate import odeint\n",
    "\n",
    "F=np.array([[5,1],[8,3]])  # fitness matrix\n",
    "\n",
    "def f(n,t):\n",
    "    return (n*np.dot(F,n)/sum(n)/1.)\n",
    "\n",
    "ninit=[4,4]    # initial [number of small crickets, number of large crickets]\n",
    "time=np.linspace(0.0,1.5, 1000)\n",
    "\n",
    "n=odeint(f,ninit,time)\n",
    "\n",
    "plt.plot(time,n[:,0],'orange')\n",
    "plt.plot(time,n[:,1],'blue')\n",
    "plt.xlabel('time')\n",
    "plt.text(1.1,n[800,0], r'small',fontsize=14)\n",
    "plt.text(1.1,n[800,1], r'large',fontsize=14)\n",
    "plt.ylabel('population size')\n",
    "plt.title(\"Numbers of small and large crickets vs. time (ode prediction)\")"
   ]
  },
  {
   "cell_type": "markdown",
   "metadata": {},
   "source": [
    "<br>**<SPAN style=\"BACKGROUND-COLOR: #C0C0C0\">Problem 3:</SPAN>** Run the code above and compare the output to the output of the previous code for stochastic evolutionary dynamics.  Try different intial conditions such as [0,4], [4,0], and [10,1]. Comment on how the result of this compares to our previous simulation. Is the behavior similar?"
   ]
  },
  {
   "cell_type": "markdown",
   "metadata": {},
   "source": [
    "__Answer__: (Your answer here)"
   ]
  },
  {
   "cell_type": "markdown",
   "metadata": {},
   "source": [
    "**<SPAN style=\"BACKGROUND-COLOR: #C0C0C0\">End of Problem 3</SPAN>** "
   ]
  },
  {
   "cell_type": "markdown",
   "metadata": {},
   "source": [
    "If we let $\\theta[0]=\\frac{n[0]}{n[0]+n[1]}$ and $\\theta[1]=\\frac{n[1]}{n[0]+n[1]}$ then the vector $\\theta=\\binom{\\theta[0]}{\\theta[1]}$ describes the fractions of the popuation of each type.  It's entries sum to one.  Using the chain rule of calculus we can derive the following differential equation for $\\theta$ from the above ode for $n$:\n",
    "$$\n",
    "\\dot{\\theta} = diag(\\theta) \\left( F\\theta - \\mathbf{1} \\theta^T F \\theta \\right)\n",
    "$$\n",
    "where $\\mathbf{1}$ is the column vector of ones. The two components of the vector $F \\theta$ give the average fitness level of small crickets and large crickets, respectively, in an encounter with a cricket selected randomly from the population.   And $\\theta^T F \\theta$ is the weighted average of that vector, giving the average fitness over all crickets in the population.   Thus, $\\theta[0]$ is increasing exactly when the fitness of small crickets is greater than the average fitness.\n",
    "\n",
    "<br>**<SPAN style=\"BACKGROUND-COLOR: #C0C0C0\">Problem 4:</SPAN>**\n",
    "\n",
    "1). Modify the above code to integrate the equation for the $\\theta$ vector to obtain $\\theta$ vs. time.\n",
    "To check your answer, compare it to what you get by first computing the trajectory of $n$ and then calculating $\\theta$ from $n.$  (The code given above for deterministic evolution of n works for any number of types, not just two types. A problem below involves three types of individuals, so it'd be nice if you could implement your code for computing $\\theta$ to work for any number of types.)"
   ]
  },
  {
   "cell_type": "code",
   "execution_count": null,
   "metadata": {
    "collapsed": false
   },
   "outputs": [],
   "source": [
    "# Your code here"
   ]
  },
  {
   "cell_type": "markdown",
   "metadata": {},
   "source": [
    "2). Using the fact that $\\theta[1]=1-\\theta[0],$  a differential equation can be derived for the variable $\\theta[0]$ alone.\n",
    "Plot the function $h$ on the interval $[0,1]$ such that $\\dot{\\theta}[0]=h(\\theta[0]).$ (You can just do this\n",
    "numerically.  It can also be done algebrically; in fact $h$ is a cubic polynomial, but it is a bit complicated to find the polynomial.)"
   ]
  },
  {
   "cell_type": "code",
   "execution_count": null,
   "metadata": {
    "collapsed": true
   },
   "outputs": [],
   "source": [
    "# Your code here"
   ]
  },
  {
   "cell_type": "markdown",
   "metadata": {},
   "source": [
    "3). What are the zeroes of $h$ (those are the equilibrium points of $\\theta[0]$)?  Which of those are stable (in the sense that if $\\theta[0]$ is slightly moved away from the equilibrium point, it returns to the equilibrium point)?"
   ]
  },
  {
   "cell_type": "markdown",
   "metadata": {},
   "source": [
    "__Answer:__ (Your answer here)"
   ]
  },
  {
   "cell_type": "markdown",
   "metadata": {},
   "source": [
    "**<SPAN style=\"BACKGROUND-COLOR: #C0C0C0\">End of Problem 4</SPAN>** "
   ]
  },
  {
   "cell_type": "markdown",
   "metadata": {},
   "source": [
    "The overall behavior in evolutionary games depends heavily on the fitness matrix $F.$   Another choice of $F$ corresponds to the so-called doves and hawks evolution game, for which the fitness matrix is\n",
    "$$\\begin{array}{c|cc}  & dove & hawk  \\\\ \\hline\n",
    "    dove & 3 & 1  \\\\\n",
    "    hawk & 5 & 0\n",
    "    \\end{array}$$\n",
    "or by a fitness matrix\n",
    "$$F=\\left( \\begin{array}{cc}  3 & 1 \\\\ 5 & 0  \\end{array}\\right).$$   Think of the doves and hawks as two types of birds that need to share resources, such as food.  (The hawks are so aggressive that they attack the doves).  A dove has higher fitness, 3, against another dove than against a hawk, 1.  A hawk has a high fitness against a dove (5) but zero fitness against another hawk, because the hawks fight over their resources.\n",
    "\n",
    "<br>**<SPAN style=\"BACKGROUND-COLOR: #C0C0C0\">Problem 5:</SPAN>** \n",
    "\n",
    "1. Repeat the deterministic (ode) approach above, but now for the doves and hawks evolution game.   You can use either the random or deterministic evolution equations for the numerical analysis.   \n",
    "2. Comment and verify your assertions about equilibrium behavior by finding a differential equation for $\\theta[0]$ and exploring its equilbrium points and their stability."
   ]
  },
  {
   "cell_type": "code",
   "execution_count": null,
   "metadata": {
    "collapsed": false
   },
   "outputs": [],
   "source": [
    "# Your code here"
   ]
  },
  {
   "cell_type": "markdown",
   "metadata": {},
   "source": [
    "__Answer__: (Your answer here)"
   ]
  },
  {
   "cell_type": "markdown",
   "metadata": {},
   "source": [
    "**<SPAN style=\"BACKGROUND-COLOR: #C0C0C0\">End of Problem 5</SPAN>** "
   ]
  },
  {
   "cell_type": "markdown",
   "metadata": {},
   "source": [
    "**<SPAN style=\"BACKGROUND-COLOR: #C0C0C0\">Problem 6:</SPAN>**  Find a 3x3 fitness matrix $F$ and an initial condition for an evolutionary game with three types of individuals such that the solution $\\theta$ has a limit cycle, not just converging to a limit point.  Does the limit cycle depend on the intial state for your fitness matrix?  (Hint: Adapt the code you wrote for Problem 4.)"
   ]
  },
  {
   "cell_type": "code",
   "execution_count": null,
   "metadata": {
    "collapsed": false
   },
   "outputs": [],
   "source": [
    "# Your code here"
   ]
  },
  {
   "cell_type": "markdown",
   "metadata": {},
   "source": [
    "__Answer__: (Your answer here)"
   ]
  },
  {
   "cell_type": "markdown",
   "metadata": {},
   "source": [
    "**<SPAN style=\"BACKGROUND-COLOR: #C0C0C0\">End of Problem 6</SPAN>** "
   ]
  },
  {
   "cell_type": "markdown",
   "metadata": {},
   "source": [
    "For this week's lab, please answer all questions 1-6."
   ]
  }
 ],
 "metadata": {
  "anaconda-cloud": {},
  "kernelspec": {
   "display_name": "Python 2",
   "language": "python",
   "name": "python2"
  },
  "language_info": {
   "codemirror_mode": {
    "name": "ipython",
    "version": 2
   },
   "file_extension": ".py",
   "mimetype": "text/x-python",
   "name": "python",
   "nbconvert_exporter": "python",
   "pygments_lexer": "ipython2",
   "version": "2.7.11"
  }
 },
 "nbformat": 4,
 "nbformat_minor": 0
}
